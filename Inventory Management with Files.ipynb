{
 "cells": [
  {
   "cell_type": "markdown",
   "id": "992b42cf",
   "metadata": {},
   "source": [
    "# Product details\n",
    "\n",
    "1. Product ID\n",
    "2. Name of the Product\n",
    "3. Price of the product\n",
    "4. Quantity"
   ]
  },
  {
   "cell_type": "code",
   "execution_count": 1,
   "id": "45688d03",
   "metadata": {},
   "outputs": [],
   "source": [
    "# Reading the inventory\n",
    "fd = open('inventory.txt', 'r')\n",
    "\n",
    "products = fd.read().split('\\n')\n",
    "\n",
    "fd.close()"
   ]
  },
  {
   "cell_type": "code",
   "execution_count": 2,
   "id": "cbf7cdde",
   "metadata": {},
   "outputs": [
    {
     "name": "stdout",
     "output_type": "stream",
     "text": [
      "1,5 Star,10,90\n",
      "2,Milky Bar,10,150\n",
      "3,Candy,1,170\n",
      "4,Dairy Milk,20,50\n"
     ]
    }
   ],
   "source": [
    "# Products in inventory\n",
    "for product in products:\n",
    "    print(product)"
   ]
  },
  {
   "cell_type": "code",
   "execution_count": 5,
   "id": "fdbb70cd",
   "metadata": {},
   "outputs": [
    {
     "name": "stdout",
     "output_type": "stream",
     "text": [
      "Enter product id: 1\n",
      "Enter product quantity: 100\n",
      "Sorry!, but we are not having enough quantity\n",
      "We have 90 quantity available with us\n",
      "Would you like to purchase it?\n",
      "Press Y/N : y\n",
      "--------------------------------\n",
      "Product Name    :  5 Star\n",
      "Price           :  10\n",
      "Quantity        :  90\n",
      "--------------------------------\n",
      "Bill Amount     :  1000\n",
      "--------------------------------\n",
      "Inventory updated!\n"
     ]
    }
   ],
   "source": [
    "# Taking user input\n",
    "u_product_id = input(\"Enter product id: \")\n",
    "u_product_qn = input(\"Enter product quantity: \")\n",
    "\n",
    "updated_product_list = []\n",
    "\n",
    "# Going through each product detail\n",
    "for product in products:\n",
    "    \n",
    "    prod_details = product.split(',')\n",
    "    \n",
    "    # Checking the availability of the product\n",
    "    if prod_details[0] == u_product_id:\n",
    "        \n",
    "        # Checking if enough quantity is present or not\n",
    "        if (int(u_product_qn) <= int(prod_details[3])):\n",
    "            print(\"--------------------------------\")\n",
    "            print(\"Product Name    : \", prod_details[1])\n",
    "            print(\"Price           : \", prod_details[2])\n",
    "            print(\"Quantity        : \", u_product_qn)\n",
    "            print(\"--------------------------------\")\n",
    "            print(\"Bill Amount     : \", int(prod_details[2]) * int(u_product_qn))\n",
    "            print(\"--------------------------------\")\n",
    "        \n",
    "            prod_details[3] = str(int(prod_details[3]) - int(u_product_qn))\n",
    "            \n",
    "        else:\n",
    "            print(\"Sorry!, but we are not having enough quantity\")\n",
    "            print(\"We have\", prod_details[3], \"quantity available with us\")\n",
    "            print(\"Would you like to purchase it?\")\n",
    "            \n",
    "            ch = input(\"Press Y/N : \")\n",
    "            \n",
    "            if (ch == \"Y\" or ch == \"y\"):\n",
    "                print(\"--------------------------------\")\n",
    "                print(\"Product Name    : \", prod_details[1])\n",
    "                print(\"Price           : \", prod_details[2])\n",
    "                print(\"Quantity        : \", prod_details[3])\n",
    "                print(\"--------------------------------\")\n",
    "                print(\"Bill Amount     : \", int(prod_details[2]) * int(u_product_qn))\n",
    "                print(\"--------------------------------\")\n",
    "        \n",
    "                prod_details[3] = '0'\n",
    "            \n",
    "            else:\n",
    "                print(\"Thank You!\")\n",
    "            \n",
    "    # Updating my inventory    \n",
    "    updated_product_list.append(prod_details)\n",
    "    \n",
    "lst = []\n",
    "\n",
    "# Converting list into string for updating my inventory\n",
    "for i in updated_product_list:\n",
    "    prod = i[0] +\",\"+ i[1] +\",\"+ i[2] +\",\"+ i[3] + '\\n'\n",
    "    lst.append(prod)\n",
    "\n",
    "lst[-1] = lst[-1][:-1]\n",
    "    \n",
    "fd = open('Inventory.txt','w')\n",
    "\n",
    "for i in lst:\n",
    "    fd.write(i)\n",
    "\n",
    "fd.close()\n",
    "\n",
    "print(\"Inventory updated!\")"
   ]
  },
  {
   "cell_type": "code",
   "execution_count": null,
   "id": "cee39ce0",
   "metadata": {},
   "outputs": [],
   "source": []
  }
 ],
 "metadata": {
  "kernelspec": {
   "display_name": "Python 3 (ipykernel)",
   "language": "python",
   "name": "python3"
  },
  "language_info": {
   "codemirror_mode": {
    "name": "ipython",
    "version": 3
   },
   "file_extension": ".py",
   "mimetype": "text/x-python",
   "name": "python",
   "nbconvert_exporter": "python",
   "pygments_lexer": "ipython3",
   "version": "3.9.12"
  }
 },
 "nbformat": 4,
 "nbformat_minor": 5
}
