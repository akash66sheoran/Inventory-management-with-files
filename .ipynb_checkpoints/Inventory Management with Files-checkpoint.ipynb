{
 "cells": [
  {
   "cell_type": "markdown",
   "id": "992b42cf",
   "metadata": {},
   "source": [
    "# Product details\n",
    "\n",
    "1. Product ID\n",
    "2. Name of the Product\n",
    "3. Price of the product\n",
    "4. Quantity"
   ]
  },
  {
   "cell_type": "code",
   "execution_count": 1,
   "id": "45688d03",
   "metadata": {},
   "outputs": [],
   "source": [
    "fd = open('inventory.txt', 'r')\n",
    "\n",
    "products = fd.read().split('\\n')\n",
    "\n",
    "fd.close()"
   ]
  },
  {
   "cell_type": "code",
   "execution_count": 2,
   "id": "cbf7cdde",
   "metadata": {},
   "outputs": [
    {
     "name": "stdout",
     "output_type": "stream",
     "text": [
      "1,5 Star,10,100\n",
      "2,Milky Bar,10,150\n",
      "3,Candy,1,170\n",
      "4,Dairy Milk,20,50\n"
     ]
    }
   ],
   "source": [
    "for product in products:\n",
    "    print(product)"
   ]
  },
  {
   "cell_type": "code",
   "execution_count": 3,
   "id": "fdbb70cd",
   "metadata": {},
   "outputs": [
    {
     "name": "stdout",
     "output_type": "stream",
     "text": [
      "Enter product id: 1\n",
      "Enter product quantity: 2\n",
      "--------------------------------\n",
      "Product Name    :  5 Star\n",
      "Price           :  10\n",
      "Quantity        :  2\n",
      "--------------------------------\n",
      "Bill Amount     :  20\n",
      "--------------------------------\n"
     ]
    }
   ],
   "source": [
    "u_product_id = input(\"Enter product id: \")\n",
    "u_product_qn = input(\"Enter product quantity: \")\n",
    "\n",
    "for product in products:\n",
    "    \n",
    "    prod_details = product.split(',')\n",
    "    \n",
    "    if prod_details[0] == u_product_id:\n",
    "        print(\"--------------------------------\")\n",
    "        print(\"Product Name    : \", prod_details[1])\n",
    "        print(\"Price           : \", prod_details[2])\n",
    "        print(\"Quantity        : \", u_product_qn)\n",
    "        print(\"--------------------------------\")\n",
    "        print(\"Bill Amount     : \", int(prod_details[2]) * int(u_product_qn))\n",
    "        print(\"--------------------------------\")"
   ]
  }
 ],
 "metadata": {
  "kernelspec": {
   "display_name": "Python 3 (ipykernel)",
   "language": "python",
   "name": "python3"
  },
  "language_info": {
   "codemirror_mode": {
    "name": "ipython",
    "version": 3
   },
   "file_extension": ".py",
   "mimetype": "text/x-python",
   "name": "python",
   "nbconvert_exporter": "python",
   "pygments_lexer": "ipython3",
   "version": "3.9.12"
  }
 },
 "nbformat": 4,
 "nbformat_minor": 5
}
